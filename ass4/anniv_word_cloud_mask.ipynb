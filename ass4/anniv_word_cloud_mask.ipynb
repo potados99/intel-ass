{
 "cells": [
  {
   "cell_type": "markdown",
   "metadata": {},
   "source": [
    "# 지식iN 데이터 워드 클라우드로 그리기\n",
    "\n",
    "# 201701562 송병준"
   ]
  },
  {
   "cell_type": "code",
   "execution_count": 15,
   "metadata": {},
   "outputs": [],
   "source": [
    "import pandas as pd\n",
    "import numpy as np\n",
    "\n",
    "from bs4 import BeautifulSoup\n",
    "from urllib.request import urlopen\n",
    "import urllib\n",
    "import time"
   ]
  },
  {
   "cell_type": "code",
   "execution_count": 16,
   "metadata": {},
   "outputs": [
    {
     "data": {
      "text/plain": "  0%|          | 0/49 [00:00<?, ?it/s]",
      "application/vnd.jupyter.widget-view+json": {
       "version_major": 2,
       "version_minor": 0,
       "model_id": "8e1b3a5d3e6042398137323ad5681267"
      }
     },
     "metadata": {},
     "output_type": "display_data"
    },
    {
     "name": "stdout",
     "output_type": "stream",
     "text": [
      "490\n"
     ]
    }
   ],
   "source": [
    "# 시간이 오래 소요됩니다! \n",
    "\n",
    "from tqdm.notebook import tqdm\n",
    "\n",
    "tmp_list = [] \n",
    "\n",
    "for i in tqdm(range(1, 50)):\n",
    "    url = \"https://kin.naver.com/search/list.nhn?query=%EB%B9%BC%EB%B9%BC%EB%A1%9C+%EB%8D%B0%EC%9D%B4&page=\"+str(i)\n",
    "    html = urlopen(url)\n",
    "\n",
    "    soup = BeautifulSoup(html.read(), \"html.parser\")\n",
    "\n",
    "    docs = soup.find(\"ul\", {\"class\": \"basic1\"}).find_all(\"li\")\n",
    "\n",
    "\n",
    "    for doc in docs:\n",
    "        ans = doc.find_all(\"dd\")[1]\n",
    "        tmp_list.append(ans.text.strip())\n",
    "\n",
    "    time.sleep(0.5)\n",
    "    \n",
    "print(len(tmp_list))"
   ]
  },
  {
   "cell_type": "code",
   "execution_count": 17,
   "metadata": {},
   "outputs": [],
   "source": [
    "from konlpy.tag import Okt\n",
    "okt = Okt()"
   ]
  },
  {
   "cell_type": "code",
   "execution_count": 18,
   "metadata": {},
   "outputs": [
    {
     "name": "stdout",
     "output_type": "stream",
     "text": [
      "빼빼로와 빼빼로데이 라는 단어는 특정기업의 상표권등록이 되어있는것으로 알고있습니다. 그런데 빼빼로데이라는 단어는 식품이 아닌 다른 제품에(예를들면 볼펜류) 상표권...\n",
      "부산에 있는 남자친구 회사에 빼빼로데이에 맞춰... 지인들에게도 추천드리는 빼빼로데이선물 BEST... 러블리 로즈베어 빼빼로6개입 빼빼로선물세트 빼빼로데이, 2....\n",
      "작년에 남편한테 빼빼로데이선물로 스킨,로션,에센스... 올해 빼빼로데이선물은 올인원 제품으로 할까하는데... 부탁드려요  빼빼로데이선물 할 시즌이 다가 오긴 하네요.ㅎㅎ...\n",
      "빼빼로데이는 여자가 주는건가요? 남자가 주는건가요?  안녕하세요! 달달함이 가득한 11월11일 빼빼로 데이는... 혹시 빼빼로데이에 소중한 분께 선물을 드려야해서...\n",
      "트와이스 걸 그룹이 빼빼로 데이 지나고 다음 날 새 앨범을 내는 이유는 무엇인지요?  굳이 빼빼로데이라는 건 의식해서 다음날 앨범을 내거나 빼빼로데이를 의식해서 그날...\n",
      "어린이집 빼빼로데이 기념으로 작게라도 선물 준비하려 하는데 저렴하면서도 알차게... 안녕하세요 빼빼로데이에 어린이집에 보낼만한 수제 빼빼로 몇 가지를 아래에 링크...\n",
      "제가 이 질문을 하는 시간 또한 11월 11일 인데 혹시 11월 11일이 빼빼로 데이인 이유가... DAY) 빼빼로 데이 - 대한민국 앙골라 독립기념일 - 앙골라 영령 기념일 - 영연방...\n",
      "빼빼로데이때 저는 남친 줄려고 선물세트를 한박스 샀는데 남자친구는 만약에 빼빼로... 굳이 빼빼로데이 때 빼빼로 갯수로 마음을 확인하지 않으셨으면 좋겠습니다^^\n",
      "곧 빼빼로 데이인데 평범한거 주기 싫어서 프레첼에 초코 묻혀서 포장해서 친구들 주려고 합니다 근데 미리 구매를 못해서 이마트에 가서 쟤료를 사려고 해요 지금...\n",
      "작년에 남편한테 빼빼로데이선물로 스킨,로션,에센스... 올해 빼빼로데이선물은 올인원 제품으로 할까하는데... 40대라 탄력이나 보습이 좋은 걸로 빼빼로데이선물 부탁드려요...\n",
      "제가 빼빼로 데이때 빼빼로를 직접 만들려고 하는데 이 초콜릿 이랑 초코펜이 같\n"
     ]
    }
   ],
   "source": [
    "ko_doc = '\\n'.join(tmp_list)\n",
    "print(ko_doc[:1000])"
   ]
  },
  {
   "cell_type": "code",
   "execution_count": 19,
   "metadata": {},
   "outputs": [
    {
     "name": "stdout",
     "output_type": "stream",
     "text": [
      "44393\n"
     ]
    }
   ],
   "source": [
    "print(len(ko_doc))"
   ]
  },
  {
   "cell_type": "code",
   "execution_count": 20,
   "metadata": {},
   "outputs": [
    {
     "name": "stdout",
     "output_type": "stream",
     "text": [
      "2.124555826187134\n"
     ]
    }
   ],
   "source": [
    "import time\n",
    "\n",
    "start = time.time()\n",
    "ko_doc_noun = okt.nouns(ko_doc)\n",
    "print(time.time()-start)"
   ]
  },
  {
   "cell_type": "code",
   "execution_count": 21,
   "metadata": {},
   "outputs": [],
   "source": [
    "from collections import Counter\n",
    "\n",
    "count_noun = Counter(ko_doc_noun)"
   ]
  },
  {
   "cell_type": "code",
   "execution_count": 22,
   "metadata": {},
   "outputs": [
    {
     "data": {
      "text/plain": "[('빼빼로데이', 664),\n ('빼빼로', 521),\n ('선물', 374),\n ('데이', 218),\n ('때', 118),\n ('요', 103),\n ('제', 95),\n ('남자친구', 83),\n ('추천', 80),\n ('날', 79),\n ('친구', 73),\n ('여자친구', 68),\n ('저', 59),\n ('남친', 50),\n ('이번', 48),\n ('그냥', 47),\n ('것', 42),\n ('좀', 40),\n ('안', 39),\n ('뭐', 39)]"
     },
     "execution_count": 22,
     "metadata": {},
     "output_type": "execute_result"
    }
   ],
   "source": [
    "count_noun.most_common(20)"
   ]
  },
  {
   "cell_type": "code",
   "execution_count": 23,
   "metadata": {},
   "outputs": [
    {
     "data": {
      "text/plain": "['힌', '조', '밥', '점', '군']"
     },
     "execution_count": 23,
     "metadata": {},
     "output_type": "execute_result"
    }
   ],
   "source": [
    "stopword_list = ['빼빼로데이', '빼빼로', '데이']\n",
    "\n",
    "for word in count_noun:\n",
    "    if len(word) == 1:\n",
    "        stopword_list.append(word)\n",
    "        \n",
    "stopword_list[-5:]"
   ]
  },
  {
   "cell_type": "code",
   "execution_count": 24,
   "metadata": {},
   "outputs": [],
   "source": [
    "# stopword 단어를 모두 pop()\n",
    "\n",
    "for stopword in stopword_list:\n",
    "    if stopword in count_noun:\n",
    "        count_noun.pop(stopword)"
   ]
  },
  {
   "cell_type": "code",
   "execution_count": 29,
   "metadata": {},
   "outputs": [
    {
     "data": {
      "text/plain": "<Figure size 432x288 with 1 Axes>",
      "image/png": "[encoded data removed]"
     },
     "metadata": {
      "needs_background": "light"
     },
     "output_type": "display_data"
    }
   ],
   "source": [
    "from wordcloud import WordCloud\n",
    "from PIL import Image\n",
    "\n",
    "img_mask = np.array(Image.open(\"sphx_glr_masked_002.png\"))\n",
    "\n",
    "# mac OS: '/Library/Fonts/NanumBarunGothic.ttf'\n",
    "wc_noun = WordCloud(background_color='white',\n",
    "                    max_words=2000,\n",
    "                    font_path=r'/Library/Fonts/NanumBarunGothic.ttf',\n",
    "                    mask=img_mask)\n",
    "wc_noun = wc_noun.generate_from_frequencies(count_noun)\n",
    "\n",
    "import matplotlib.pyplot as plt\n",
    "plt.imshow(wc_noun, interpolation=\"bilinear\")\n",
    "plt.axis(\"off\")\n",
    "plt.show()"
   ]
  },
  {
   "cell_type": "code",
   "execution_count": 25,
   "metadata": {},
   "outputs": [],
   "source": []
  }
 ],
 "metadata": {
  "kernelspec": {
   "display_name": "Python 3",
   "language": "python",
   "name": "python3"
  },
  "language_info": {
   "codemirror_mode": {
    "name": "ipython",
    "version": 3
   },
   "file_extension": ".py",
   "mimetype": "text/x-python",
   "name": "python",
   "nbconvert_exporter": "python",
   "pygments_lexer": "ipython3",
   "version": "3.8.3"
  }
 },
 "nbformat": 4,
 "nbformat_minor": 4
}